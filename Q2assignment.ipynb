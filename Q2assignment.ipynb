{
 "cells": [
  {
   "cell_type": "markdown",
   "metadata": {},
   "source": [
    "A. Formulate the mathematical model for this TSP problem considering the\n",
    "time windows provided for each location with the objective of minimizing the total\n",
    "distance traveled."
   ]
  },
  {
   "cell_type": "code",
   "execution_count": null,
   "metadata": {},
   "outputs": [
    {
     "ename": "",
     "evalue": "",
     "output_type": "error",
     "traceback": [
      "\u001b[1;31mThe kernel failed to start as a dll could not be loaded.\n",
      "\u001b[1;31mClick <a href='https://aka.ms/kernelFailuresDllLoad'>here</a> for more info."
     ]
    }
   ],
   "source": [
    "# read data_large.text and data_small.text\n",
    "\n",
    "import pandas as pd\n",
    "import numpy as np\n",
    "import matplotlib.pyplot as plt\n",
    "import seaborn as sns\n",
    "\n",
    "# read data_large.text and data_small.text\n",
    "data_large = pd.read_csv('data_large.txt', sep='\\t', names=['Location ID', 'X_Coordinate', 'Y_Coordinate', 'Demand', 'Ready Time', 'Due Date', 'Service Time'])\n",
    "data_small = pd.read_csv('data_small.txt', sep='\\t')\n",
    "\n",
    "# show the entire data\n",
    "#print(data_large)\n",
    "print(data_small)\n",
    "\n",
    "\n",
    "# first collum is location_ID\n",
    "LOC_ID = (data_small.iloc[:,0])\n",
    "print(LOC_ID)\n",
    "\n",
    "# second collum is X_coordinate\n",
    "X_COORD = (data_small.iloc[:,1])\n",
    "print(X_COORD)\n",
    "\n",
    "# third collum is Y_coordinate\n",
    "Y_COORD = (data_small.iloc[:,2])\n",
    "print(Y_COORD)\n",
    "\n",
    "# fourth collum is demand at the location\n",
    "DEMAND = (data_small.iloc[:,3])\n",
    "print(DEMAND)\n",
    "\n",
    "# fifth collum is ready time at the location\n",
    "READYTIME = (data_small.iloc[:,4])\n",
    "print(READYTIME)\n",
    "\n",
    "# sixth collum is due time at the location\n",
    "DUETIME = (data_small.iloc[:,5])\n",
    "print(DUETIME)\n",
    "\n",
    "# seventh collum is service time at the location\n",
    "SERVICETIME = (data_small.iloc[:,6])\n",
    "print(SERVICETIME)"
   ]
  }
 ],
 "metadata": {
  "kernelspec": {
   "display_name": "Python 3.10.4 ('ME44206')",
   "language": "python",
   "name": "python3"
  },
  "language_info": {
   "codemirror_mode": {
    "name": "ipython",
    "version": 3
   },
   "file_extension": ".py",
   "mimetype": "text/x-python",
   "name": "python",
   "nbconvert_exporter": "python",
   "pygments_lexer": "ipython3",
   "version": "3.10.4"
  },
  "orig_nbformat": 4,
  "vscode": {
   "interpreter": {
    "hash": "9e3a593d7e78d6e879b0188f4a2eb25b5968a4cbd3339f08a1a60a987fd522e4"
   }
  }
 },
 "nbformat": 4,
 "nbformat_minor": 2
}
