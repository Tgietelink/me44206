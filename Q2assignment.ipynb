{
 "cells": [
  {
   "cell_type": "markdown",
   "metadata": {},
   "source": [
    "A. Formulate the mathematical model for this TSP problem considering the\n",
    "time windows provided for each location with the objective of minimizing the total\n",
    "distance traveled."
   ]
  },
  {
   "cell_type": "code",
   "execution_count": 7,
   "metadata": {},
   "outputs": [
    {
     "name": "stdout",
     "output_type": "stream",
     "text": [
      "0    1\n",
      "1    2\n",
      "2    3\n",
      "3    4\n",
      "4    5\n",
      "5    6\n",
      "Name: 0, dtype: int64\n",
      "0    42\n",
      "1    42\n",
      "2    40\n",
      "3    38\n",
      "4    38\n",
      "5    41\n",
      "Name: 40, dtype: int64\n",
      "0    66\n",
      "1    65\n",
      "2    69\n",
      "3    68\n",
      "4    70\n",
      "5    51\n",
      "Name: 50, dtype: int64\n",
      "0    20\n",
      "1    20\n",
      "2    20\n",
      "3    20\n",
      "4    10\n",
      "5    30\n",
      "Name: 0.1, dtype: int64\n",
      "0     65\n",
      "1     15\n",
      "2    621\n",
      "3    255\n",
      "4    534\n",
      "5    448\n",
      "Name: 0.2, dtype: int64\n",
      "0    146\n",
      "1     67\n",
      "2    702\n",
      "3    324\n",
      "4    605\n",
      "5    505\n",
      "Name: 1236, dtype: int64\n"
     ]
    }
   ],
   "source": [
    "# read data_large.text and data_small.text\n",
    "\n",
    "import pandas as pd\n",
    "import numpy as np\n",
    "import matplotlib.pyplot as plt\n",
    "import seaborn as sns\n",
    "\n",
    "# read data_large.text and data_small.text\n",
    "data_large = pd.read_csv('data_large.txt', sep='\\t')\n",
    "data_small = pd.read_csv('data_small.txt', sep='\\t')\n",
    "\n",
    "# show the entire data\n",
    "#print(data_large)\n",
    "#print(data_small)\n",
    "\n",
    "# first collum is location_ID\n",
    "LOC_ID = (data_small.iloc[:,0])\n",
    "print(LOC_ID)\n",
    "\n",
    "# second collum is X_coordinate\n",
    "X_COORD = (data_small.iloc[:,1])\n",
    "print(X_COORD)\n",
    "\n",
    "# third collum is Y_coordinate\n",
    "Y_COORD = (data_small.iloc[:,2])\n",
    "print(Y_COORD)\n",
    "\n",
    "# fourth collum is demand at the location\n",
    "DEMAND = (data_small.iloc[:,3])\n",
    "print(DEMAND)\n",
    "\n",
    "# fifth collum is ready time at the location\n",
    "READYTIME = (data_small.iloc[:,4])\n",
    "print(READYTIME)\n",
    "\n",
    "# sixth collum is due time at the location\n",
    "DUETIME = (data_small.iloc[:,5])\n",
    "print(DUETIME)\n",
    "\n",
    "# seventh collum is service time at the location\n",
    "SERVICETIME = (data_small.iloc[:,6])\n",
    "print(SERVICETIME)"
   ]
  }
 ],
 "metadata": {
  "kernelspec": {
   "display_name": "Python 3.10.4 ('TIL6022')",
   "language": "python",
   "name": "python3"
  },
  "language_info": {
   "codemirror_mode": {
    "name": "ipython",
    "version": 3
   },
   "file_extension": ".py",
   "mimetype": "text/x-python",
   "name": "python",
   "nbconvert_exporter": "python",
   "pygments_lexer": "ipython3",
   "version": "3.10.4"
  },
  "orig_nbformat": 4,
  "vscode": {
   "interpreter": {
    "hash": "13e8179b08029b2d674516435011dda4afc275d45580cb37baf89a1864df9297"
   }
  }
 },
 "nbformat": 4,
 "nbformat_minor": 2
}
