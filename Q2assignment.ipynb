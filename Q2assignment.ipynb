
# read data_large.text and data_small.text

import pandas as pd
import numpy as np
import matplotlib.pyplot as plt
import seaborn as sns

# read data_large.text and data_small.text
data_large = pd.read_csv('data_large.txt', sep='\t', names=['Location ID', 'X_Coordinate', 'Y_Coordinate', 'Demand', 'Ready Time', 'Due Date', 'Service Time'])
data_small = pd.read_csv('data_small.txt', sep='\t', names=['Location ID', 'X_Coordinate', 'Y_Coordinate', 'Demand', 'Ready Time', 'Due Date', 'Service Time'])

# show the entire data
#print(data_large)
print(data_small)


# first collum is location_ID
LOC_ID = (data_small.iloc[:,0])

# second collum is X_coordinate
X_COORD = (data_small.iloc[:,1])

# third collum is Y_coordinate
Y_COORD = (data_small.iloc[:,2])

# fourth collum is demand at the location
DEMAND = (data_small.iloc[:,3])

# fifth collum is ready time at the location
READYTIME = (data_small.iloc[:,4])

# sixth collum is due time at the location
DUETIME = (data_small.iloc[:,5])

# seventh collum is service time at the location
SERVICETIME = (data_small.iloc[:,6])

M = 1000000     # Large integer for 

c_matrix = np.zeros([len(LOC_ID), len(LOC_ID)])
for i in range(len(LOC_ID)):
    for j in range(len(LOC_ID)):
                if i == j:
                    c_matrix[i][j] = M
                else:
                    c_matrix[i][j] = np.sqrt((X_COORD[j] - X_COORD[i]) ** 2 + (Y_COORD[j] - Y_COORD[i]) ** 2)

print(c_matrix)





model = Model ('Assignment_2b')

# ---- Sets ----

I = range (len(LOC_ID))                # set of Nodes
J = range (len(LOC_ID))                   # set of edges


# ---- Variables ----

# Decision Variable x(i,j) (Distance travelled between node i and node j)

x = {} 
for j in J:
    x[j] = model.addVar(vtype = GRB.BINARY, name = 'x[' + str(j) + ']')

# Decision Variable x(i,j) (Distance travelled between node i and node j)

z = {} 
for j in J:
    z[j] = model.addVar(vtype = GRB.CONTINUOUS, name = 'z[' + str(j) + ']')
        
# Integrate new variables
model.update ()


# ---- Objective Function ----

model.setObjective(quicksum((c[j] * x[j]) for j in J))
model.modelSense = GRB.MINIMIZE
model.update ()


# ---- Constraints ----

# Contraint 1: distance between the nodes

model.addConstr( quicksum(x[i, j] for j in I if j! = i) == 1 for i in I)
model.addConstr( quicksum(x[i, j] for i in I if j! = i) == 1 for j in I)

model.addConstr( (x[i, j] == 1) >> (u[i] + 1 == u[j] ) for i, j in J if j! = 0)



# ---- Solve ----


model.setParam('OutputFlag', True) # silencing gurobi output or not
model.setParam ('MIPGap', 0);       # find the optimal solution
model.write("output.lp")            # print the model in .lp format file

model.optimize ()




plt.figure(figsize = (12, 5))
for i in range(len(LOC_ID)):
    plt.scatter(X_COORD[i], Y_COORD[i], color = 'blue') 
    plt.annotate(str(LOC_ID[i]), xy = (X_COORD[i], Y_COORD[i]), xytext = (X_COORD[i] + 0.05, Y_COORD[i] + 0.3), color = 'red')
