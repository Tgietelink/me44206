{
 "cells": [
  {
   "cell_type": "code",
   "execution_count": 1,
   "metadata": {},
   "outputs": [],
   "source": [
    "import pandas as pd\n",
    "import matplotlib.pyplot as plt"
   ]
  },
  {
   "cell_type": "code",
   "execution_count": 2,
   "metadata": {},
   "outputs": [],
   "source": [
    "df = pd.read_csv('data_small.txt', sep = \"\\t\", names =  ['0', '1', '2', '3', '4', '5', '6'])"
   ]
  },
  {
   "cell_type": "code",
   "execution_count": 3,
   "metadata": {},
   "outputs": [
    {
     "data": {
      "text/html": [
       "<div>\n",
       "<style scoped>\n",
       "    .dataframe tbody tr th:only-of-type {\n",
       "        vertical-align: middle;\n",
       "    }\n",
       "\n",
       "    .dataframe tbody tr th {\n",
       "        vertical-align: top;\n",
       "    }\n",
       "\n",
       "    .dataframe thead th {\n",
       "        text-align: right;\n",
       "    }\n",
       "</style>\n",
       "<table border=\"1\" class=\"dataframe\">\n",
       "  <thead>\n",
       "    <tr style=\"text-align: right;\">\n",
       "      <th></th>\n",
       "      <th>0</th>\n",
       "      <th>1</th>\n",
       "      <th>2</th>\n",
       "      <th>3</th>\n",
       "      <th>4</th>\n",
       "      <th>5</th>\n",
       "      <th>6</th>\n",
       "    </tr>\n",
       "  </thead>\n",
       "  <tbody>\n",
       "    <tr>\n",
       "      <th>0</th>\n",
       "      <td>0</td>\n",
       "      <td>40</td>\n",
       "      <td>50</td>\n",
       "      <td>0</td>\n",
       "      <td>0</td>\n",
       "      <td>1236</td>\n",
       "      <td>0</td>\n",
       "    </tr>\n",
       "    <tr>\n",
       "      <th>1</th>\n",
       "      <td>1</td>\n",
       "      <td>42</td>\n",
       "      <td>66</td>\n",
       "      <td>20</td>\n",
       "      <td>65</td>\n",
       "      <td>146</td>\n",
       "      <td>90</td>\n",
       "    </tr>\n",
       "    <tr>\n",
       "      <th>2</th>\n",
       "      <td>2</td>\n",
       "      <td>42</td>\n",
       "      <td>65</td>\n",
       "      <td>20</td>\n",
       "      <td>15</td>\n",
       "      <td>67</td>\n",
       "      <td>90</td>\n",
       "    </tr>\n",
       "    <tr>\n",
       "      <th>3</th>\n",
       "      <td>3</td>\n",
       "      <td>40</td>\n",
       "      <td>69</td>\n",
       "      <td>20</td>\n",
       "      <td>621</td>\n",
       "      <td>702</td>\n",
       "      <td>90</td>\n",
       "    </tr>\n",
       "    <tr>\n",
       "      <th>4</th>\n",
       "      <td>4</td>\n",
       "      <td>38</td>\n",
       "      <td>68</td>\n",
       "      <td>20</td>\n",
       "      <td>255</td>\n",
       "      <td>324</td>\n",
       "      <td>90</td>\n",
       "    </tr>\n",
       "    <tr>\n",
       "      <th>5</th>\n",
       "      <td>5</td>\n",
       "      <td>38</td>\n",
       "      <td>70</td>\n",
       "      <td>10</td>\n",
       "      <td>534</td>\n",
       "      <td>605</td>\n",
       "      <td>90</td>\n",
       "    </tr>\n",
       "    <tr>\n",
       "      <th>6</th>\n",
       "      <td>6</td>\n",
       "      <td>41</td>\n",
       "      <td>51</td>\n",
       "      <td>30</td>\n",
       "      <td>448</td>\n",
       "      <td>505</td>\n",
       "      <td>90</td>\n",
       "    </tr>\n",
       "  </tbody>\n",
       "</table>\n",
       "</div>"
      ],
      "text/plain": [
       "   0   1   2   3    4     5   6\n",
       "0  0  40  50   0    0  1236   0\n",
       "1  1  42  66  20   65   146  90\n",
       "2  2  42  65  20   15    67  90\n",
       "3  3  40  69  20  621   702  90\n",
       "4  4  38  68  20  255   324  90\n",
       "5  5  38  70  10  534   605  90\n",
       "6  6  41  51  30  448   505  90"
      ]
     },
     "execution_count": 3,
     "metadata": {},
     "output_type": "execute_result"
    }
   ],
   "source": [
    "pd.DataFrame(df)"
   ]
  },
  {
   "cell_type": "code",
   "execution_count": 4,
   "metadata": {},
   "outputs": [],
   "source": [
    "import numpy as np\n",
    "from gurobipy import *"
   ]
  },
  {
   "cell_type": "code",
   "execution_count": 5,
   "metadata": {},
   "outputs": [
    {
     "name": "stderr",
     "output_type": "stream",
     "text": [
      "C:\\Users\\Daan\\Anaconda3\\lib\\site-packages\\statsmodels\\tools\\_testing.py:19: FutureWarning: pandas.util.testing is deprecated. Use the functions in the public API at pandas.testing instead.\n",
      "  import pandas.util.testing as tm\n"
     ]
    },
    {
     "name": "stdout",
     "output_type": "stream",
     "text": [
      "   Location ID  X_Coordinate  Y_Coordinate  Demand  Ready Time  Due Date  \\\n",
      "0            0            40            50       0           0      1236   \n",
      "1            1            42            66      20          65       146   \n",
      "2            2            42            65      20          15        67   \n",
      "3            3            40            69      20         621       702   \n",
      "4            4            38            68      20         255       324   \n",
      "5            5            38            70      10         534       605   \n",
      "6            6            41            51      30         448       505   \n",
      "\n",
      "   Service Time  \n",
      "0             0  \n",
      "1            90  \n",
      "2            90  \n",
      "3            90  \n",
      "4            90  \n",
      "5            90  \n",
      "6            90  \n",
      "[[1.00000000e+06 1.61245155e+01 1.51327460e+01 1.90000000e+01\n",
      "  1.81107703e+01 2.00997512e+01 1.41421356e+00]\n",
      " [1.61245155e+01 1.00000000e+06 1.00000000e+00 3.60555128e+00\n",
      "  4.47213595e+00 5.65685425e+00 1.50332964e+01]\n",
      " [1.51327460e+01 1.00000000e+00 1.00000000e+06 4.47213595e+00\n",
      "  5.00000000e+00 6.40312424e+00 1.40356688e+01]\n",
      " [1.90000000e+01 3.60555128e+00 4.47213595e+00 1.00000000e+06\n",
      "  2.23606798e+00 2.23606798e+00 1.80277564e+01]\n",
      " [1.81107703e+01 4.47213595e+00 5.00000000e+00 2.23606798e+00\n",
      "  1.00000000e+06 2.00000000e+00 1.72626765e+01]\n",
      " [2.00997512e+01 5.65685425e+00 6.40312424e+00 2.23606798e+00\n",
      "  2.00000000e+00 1.00000000e+06 1.92353841e+01]\n",
      " [1.41421356e+00 1.50332964e+01 1.40356688e+01 1.80277564e+01\n",
      "  1.72626765e+01 1.92353841e+01 1.00000000e+06]]\n"
     ]
    }
   ],
   "source": [
    "\n",
    "# read data_large.text and data_small.text\n",
    "\n",
    "import pandas as pd\n",
    "import numpy as np\n",
    "import matplotlib.pyplot as plt\n",
    "import seaborn as sns\n",
    "\n",
    "# read data_large.text and data_small.text\n",
    "data_large = pd.read_csv('data_large.txt', sep='\\t', names=['Location ID', 'X_Coordinate', 'Y_Coordinate', 'Demand', 'Ready Time', 'Due Date', 'Service Time'])\n",
    "data_small = pd.read_csv('data_small.txt', sep='\\t', names=['Location ID', 'X_Coordinate', 'Y_Coordinate', 'Demand', 'Ready Time', 'Due Date', 'Service Time'])\n",
    "\n",
    "# show the entire data\n",
    "#print(data_large)\n",
    "print(data_small)\n",
    "\n",
    "\n",
    "# first collum is location_ID\n",
    "LOC_ID = (data_small.iloc[:,0])\n",
    "\n",
    "# second collum is X_coordinate\n",
    "X_COORD = (data_small.iloc[:,1])\n",
    "\n",
    "# third collum is Y_coordinate\n",
    "Y_COORD = (data_small.iloc[:,2])\n",
    "\n",
    "# fourth collum is demand at the location\n",
    "DEMAND = (data_small.iloc[:,3])\n",
    "\n",
    "# fifth collum is ready time at the location\n",
    "READYTIME = (data_small.iloc[:,4])\n",
    "\n",
    "# sixth collum is due time at the location\n",
    "DUETIME = (data_small.iloc[:,5])\n",
    "\n",
    "# seventh collum is service time at the location\n",
    "SERVICETIME = (data_small.iloc[:,6])\n",
    "\n",
    "M = 1000000     # Large integer for \n",
    "\n",
    "c_matrix = np.zeros([len(LOC_ID), len(LOC_ID)])\n",
    "for i in range(len(LOC_ID)):\n",
    "    for j in range(len(LOC_ID)):\n",
    "                if i == j:\n",
    "                    c_matrix[i][j] = M\n",
    "                else:\n",
    "                    c_matrix[i][j] = np.sqrt((X_COORD[j] - X_COORD[i]) ** 2 + (Y_COORD[j] - Y_COORD[i]) ** 2)\n",
    "\n",
    "print(c_matrix)"
   ]
  },
  {
   "cell_type": "code",
   "execution_count": 6,
   "metadata": {},
   "outputs": [
    {
     "ename": "SyntaxError",
     "evalue": "invalid syntax (<ipython-input-6-719909f4dd7e>, line 38)",
     "output_type": "error",
     "traceback": [
      "\u001b[1;36m  File \u001b[1;32m\"<ipython-input-6-719909f4dd7e>\"\u001b[1;36m, line \u001b[1;32m38\u001b[0m\n\u001b[1;33m    model.addConstr( quicksum(x[i, j] for j in I if j! = i) == 1 for i in I)\u001b[0m\n\u001b[1;37m                                                     ^\u001b[0m\n\u001b[1;31mSyntaxError\u001b[0m\u001b[1;31m:\u001b[0m invalid syntax\n"
     ]
    }
   ],
   "source": [
    "model = Model ('Assignment_2b')\n",
    "\n",
    "# ---- Sets ----\n",
    "\n",
    "I = range (len(LOC_ID))                # set of Nodes\n",
    "J = range (len(LOC_ID))                   # set of edges\n",
    "\n",
    "\n",
    "# ---- Variables ----\n",
    "\n",
    "# Decision Variable x(i,j) (Distance travelled between node i and node j)\n",
    "\n",
    "x = {} \n",
    "for j in J:\n",
    "    x[j] = model.addVar(vtype = GRB.BINARY, name = 'x[' + str(j) + ']')\n",
    "\n",
    "# Decision Variable x(i,j) (Distance travelled between node i and node j)\n",
    "\n",
    "z = {} \n",
    "for j in J:\n",
    "    z[j] = model.addVar(vtype = GRB.CONTINUOUS, name = 'z[' + str(j) + ']')\n",
    "        \n",
    "# Integrate new variables\n",
    "model.update ()\n",
    "\n",
    "\n",
    "# ---- Objective Function ----\n",
    "\n",
    "model.setObjective(quicksum((c[j] * x[j]) for j in J))\n",
    "model.modelSense = GRB.MINIMIZE\n",
    "model.update ()\n",
    "\n",
    "\n",
    "# ---- Constraints ----\n",
    "\n",
    "# Contraint 1: distance between the nodes\n",
    "\n",
    "model.addConstr( quicksum(x[i, j] for j in I if j! = i) == 1 for i in I)\n",
    "model.addConstr( quicksum(x[i, j] for i in I if j! = i) == 1 for j in I)\n",
    "\n",
    "model.addConstr( (x[i, j] == 1) >> (u[i] + 1 == u[j] ) for i, j in J if j! = 0)\n",
    "\n",
    "# Contraint 2\n",
    "\n",
    "\n",
    "# Contraint 3: stock in other months\n",
    "\n",
    "# ---- Solve ----\n",
    "\n",
    "\n",
    "model.setParam('OutputFlag', True) # silencing gurobi output or not\n",
    "model.setParam ('MIPGap', 0);       # find the optimal solution\n",
    "model.write(\"output.lp\")            # print the model in .lp format file\n",
    "\n",
    "model.optimize ()\n"
   ]
  },
  {
   "cell_type": "code",
   "execution_count": 52,
   "metadata": {},
   "outputs": [
    {
     "data": {
      "image/png": "[encoded data removed]",
      "text/plain": [
       "<Figure size 864x360 with 1 Axes>"
      ]
     },
     "metadata": {
      "needs_background": "light"
     },
     "output_type": "display_data"
    }
   ],
   "source": [
    "plt.figure(figsize = (12, 5))\n",
    "for i in range(len(LOC_ID)):\n",
    "    plt.scatter(X_COORD[i], Y_COORD[i], color = 'blue') \n",
    "    plt.annotate(str(LOC_ID[i]), xy = (X_COORD[i], Y_COORD[i]), xytext = (X_COORD[i] + 0.05, Y_COORD[i] + 0.3), color = 'red')"
   ]
  },
  {
   "cell_type": "code",
   "execution_count": null,
   "metadata": {},
   "outputs": [],
   "source": []
  }
 ],
 "metadata": {
  "kernelspec": {
   "display_name": "Python 3",
   "language": "python",
   "name": "python3"
  },
  "language_info": {
   "codemirror_mode": {
    "name": "ipython",
    "version": 3
   },
   "file_extension": ".py",
   "mimetype": "text/x-python",
   "name": "python",
   "nbconvert_exporter": "python",
   "pygments_lexer": "ipython3",
   "version": "3.6.5"
  }
 },
 "nbformat": 4,
 "nbformat_minor": 2
}
