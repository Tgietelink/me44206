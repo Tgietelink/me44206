{
 "cells": [
  {
   "cell_type": "code",
   "execution_count": 32,
   "metadata": {},
   "outputs": [],
   "source": [
    "import pandas as pd\n",
    "import matplotlib.pyplot as plt"
   ]
  },
  {
   "cell_type": "code",
   "execution_count": 33,
   "metadata": {},
   "outputs": [],
   "source": [
    "df = pd.read_csv('data_small.txt', sep = \"\\t\", names =  ['0', '1', '2', '3', '4', '5', '6'])"
   ]
  },
  {
   "cell_type": "code",
   "execution_count": 34,
   "metadata": {},
   "outputs": [
    {
     "data": {
      "text/html": [
       "<div>\n",
       "<style scoped>\n",
       "    .dataframe tbody tr th:only-of-type {\n",
       "        vertical-align: middle;\n",
       "    }\n",
       "\n",
       "    .dataframe tbody tr th {\n",
       "        vertical-align: top;\n",
       "    }\n",
       "\n",
       "    .dataframe thead th {\n",
       "        text-align: right;\n",
       "    }\n",
       "</style>\n",
       "<table border=\"1\" class=\"dataframe\">\n",
       "  <thead>\n",
       "    <tr style=\"text-align: right;\">\n",
       "      <th></th>\n",
       "      <th>0</th>\n",
       "      <th>1</th>\n",
       "      <th>2</th>\n",
       "      <th>3</th>\n",
       "      <th>4</th>\n",
       "      <th>5</th>\n",
       "      <th>6</th>\n",
       "    </tr>\n",
       "  </thead>\n",
       "  <tbody>\n",
       "    <tr>\n",
       "      <th>0</th>\n",
       "      <td>0</td>\n",
       "      <td>40</td>\n",
       "      <td>50</td>\n",
       "      <td>0</td>\n",
       "      <td>0</td>\n",
       "      <td>1236</td>\n",
       "      <td>0</td>\n",
       "    </tr>\n",
       "    <tr>\n",
       "      <th>1</th>\n",
       "      <td>1</td>\n",
       "      <td>42</td>\n",
       "      <td>66</td>\n",
       "      <td>20</td>\n",
       "      <td>65</td>\n",
       "      <td>146</td>\n",
       "      <td>90</td>\n",
       "    </tr>\n",
       "    <tr>\n",
       "      <th>2</th>\n",
       "      <td>2</td>\n",
       "      <td>42</td>\n",
       "      <td>65</td>\n",
       "      <td>20</td>\n",
       "      <td>15</td>\n",
       "      <td>67</td>\n",
       "      <td>90</td>\n",
       "    </tr>\n",
       "    <tr>\n",
       "      <th>3</th>\n",
       "      <td>3</td>\n",
       "      <td>40</td>\n",
       "      <td>69</td>\n",
       "      <td>20</td>\n",
       "      <td>621</td>\n",
       "      <td>702</td>\n",
       "      <td>90</td>\n",
       "    </tr>\n",
       "    <tr>\n",
       "      <th>4</th>\n",
       "      <td>4</td>\n",
       "      <td>38</td>\n",
       "      <td>68</td>\n",
       "      <td>20</td>\n",
       "      <td>255</td>\n",
       "      <td>324</td>\n",
       "      <td>90</td>\n",
       "    </tr>\n",
       "    <tr>\n",
       "      <th>5</th>\n",
       "      <td>5</td>\n",
       "      <td>38</td>\n",
       "      <td>70</td>\n",
       "      <td>10</td>\n",
       "      <td>534</td>\n",
       "      <td>605</td>\n",
       "      <td>90</td>\n",
       "    </tr>\n",
       "    <tr>\n",
       "      <th>6</th>\n",
       "      <td>6</td>\n",
       "      <td>41</td>\n",
       "      <td>51</td>\n",
       "      <td>30</td>\n",
       "      <td>448</td>\n",
       "      <td>505</td>\n",
       "      <td>90</td>\n",
       "    </tr>\n",
       "  </tbody>\n",
       "</table>\n",
       "</div>"
      ],
      "text/plain": [
       "   0   1   2   3    4     5   6\n",
       "0  0  40  50   0    0  1236   0\n",
       "1  1  42  66  20   65   146  90\n",
       "2  2  42  65  20   15    67  90\n",
       "3  3  40  69  20  621   702  90\n",
       "4  4  38  68  20  255   324  90\n",
       "5  5  38  70  10  534   605  90\n",
       "6  6  41  51  30  448   505  90"
      ]
     },
     "execution_count": 34,
     "metadata": {},
     "output_type": "execute_result"
    }
   ],
   "source": [
    "pd.DataFrame(df)"
   ]
  },
  {
   "cell_type": "code",
   "execution_count": 35,
   "metadata": {},
   "outputs": [],
   "source": [
    "import numpy as np\n",
    "from gurobipy import GRB\n",
    "from gurobipy import *"
   ]
  },
  {
   "cell_type": "code",
   "execution_count": 36,
   "metadata": {},
   "outputs": [
    {
     "name": "stdout",
     "output_type": "stream",
     "text": [
      "0      0\n",
      "1     65\n",
      "2     15\n",
      "3    621\n",
      "4    255\n",
      "5    534\n",
      "6    448\n",
      "Name: Ready Time, dtype: int64\n",
      "16.1245154965971\n"
     ]
    }
   ],
   "source": [
    "\n",
    "# read data_large.text and data_small.text\n",
    "\n",
    "import pandas as pd\n",
    "import numpy as np\n",
    "import matplotlib.pyplot as plt\n",
    "import seaborn as sns\n",
    "from itertools import combinations\n",
    "\n",
    "# read data_large.text and data_small.text\n",
    "data_large = pd.read_csv('data_large.txt', sep='\\t', names=['Location ID', 'X_Coordinate', 'Y_Coordinate', 'Demand', 'Ready Time', 'Due Date', 'Service Time'])\n",
    "data_small = pd.read_csv('data_small.txt', sep='\\t', names=['Location ID', 'X_Coordinate', 'Y_Coordinate', 'Demand', 'Ready Time', 'Due Date', 'Service Time'])\n",
    "\n",
    "# show the entire data\n",
    "#print(data_large)\n",
    "#print(data_small)\n",
    "\n",
    "# make matrix in pandas of data with 1 collom being 0, 1, 2, 3, 4, 5, 6 and the other being 0, 65, 15, 621, 255, 534, 448\n",
    "\n",
    "\n",
    "\n",
    "# first collum is location_ID\n",
    "LOC_ID = (data_small.iloc[:,0])\n",
    "# convert the location_ID to a list\n",
    "LOC_ID = LOC_ID.tolist()\n",
    "\n",
    "# second collum is X_coordinate\n",
    "X_COORD = (data_small.iloc[:,1])\n",
    "\n",
    "# third collum is Y_coordinate\n",
    "Y_COORD = (data_small.iloc[:,2])\n",
    "\n",
    "# fourth collum is demand at the location\n",
    "DEMAND = (data_small.iloc[:,3])\n",
    "\n",
    "# fifth collum is ready time at the location\n",
    "READYTIME = (data_small.iloc[:,4])\n",
    "\n",
    "\n",
    "print(READYTIME)\n",
    "\n",
    "\n",
    "# sixth collum is due time at the location\n",
    "DUETIME = (data_small.iloc[:,5])\n",
    "\n",
    "# seventh collum is service time at the location\n",
    "SERVICETIME = (data_small.iloc[:,6])\n",
    "# convert the service time to a list\n",
    "SERVICETIME = SERVICETIME.tolist()\n",
    "\n",
    "M = 1000000     # Large integer for \n",
    "\n",
    "c_matrix = np.zeros([len(LOC_ID), len(LOC_ID)])\n",
    "for i in range(len(LOC_ID)):\n",
    "    for j in range(len(LOC_ID)):\n",
    "                if i == j:\n",
    "                    c_matrix[i][j] = M\n",
    "                else:\n",
    "                    c_matrix[i][j] = np.sqrt((X_COORD[j] - X_COORD[i]) ** 2 + (Y_COORD[j] - Y_COORD[i]) ** 2)\n",
    "# convert the matrix to a dataframe\n",
    "c_matrix = pd.DataFrame(c_matrix)\n",
    "\n",
    "dist = {(LOC_ID[i], LOC_ID[j]): c_matrix[i][j] for i,j in combinations(LOC_ID, 2)}\n",
    "\n",
    "print(dist[0,1])\n"
   ]
  },
  {
   "cell_type": "code",
   "execution_count": 44,
   "metadata": {},
   "outputs": [
    {
     "ename": "KeyError",
     "evalue": "(1, 0)",
     "output_type": "error",
     "traceback": [
      "\u001b[1;31m---------------------------------------------------------------------------\u001b[0m",
      "\u001b[1;31mKeyError\u001b[0m                                  Traceback (most recent call last)",
      "\u001b[1;32mc:\\Users\\tgietelink\\Documents\\GitHub\\me44206\\QML Assignment 2.ipynb Cell 6\u001b[0m in \u001b[0;36m<cell line: 30>\u001b[1;34m()\u001b[0m\n\u001b[0;32m     <a href='vscode-notebook-cell:/c%3A/Users/tgietelink/Documents/GitHub/me44206/QML%20Assignment%202.ipynb#W5sZmlsZQ%3D%3D?line=30'>31</a>\u001b[0m     \u001b[39mfor\u001b[39;00m j \u001b[39min\u001b[39;00m LOC_ID:\n\u001b[0;32m     <a href='vscode-notebook-cell:/c%3A/Users/tgietelink/Documents/GitHub/me44206/QML%20Assignment%202.ipynb#W5sZmlsZQ%3D%3D?line=31'>32</a>\u001b[0m         \u001b[39mif\u001b[39;00m i \u001b[39m!=\u001b[39m j:\n\u001b[1;32m---> <a href='vscode-notebook-cell:/c%3A/Users/tgietelink/Documents/GitHub/me44206/QML%20Assignment%202.ipynb#W5sZmlsZQ%3D%3D?line=32'>33</a>\u001b[0m             m\u001b[39m.\u001b[39maddConstr(t[i,j] \u001b[39m>\u001b[39m\u001b[39m=\u001b[39m READYTIME[i] \u001b[39m+\u001b[39m SERVICETIME[i] \u001b[39m+\u001b[39m dist[i,j])\n\u001b[0;32m     <a href='vscode-notebook-cell:/c%3A/Users/tgietelink/Documents/GitHub/me44206/QML%20Assignment%202.ipynb#W5sZmlsZQ%3D%3D?line=33'>34</a>\u001b[0m             m\u001b[39m.\u001b[39maddConstr(t[i,j] \u001b[39m<\u001b[39m\u001b[39m=\u001b[39m DUETIME[i] \u001b[39m+\u001b[39m SERVICETIME[i] \u001b[39m+\u001b[39m dist[i,j])\n\u001b[0;32m     <a href='vscode-notebook-cell:/c%3A/Users/tgietelink/Documents/GitHub/me44206/QML%20Assignment%202.ipynb#W5sZmlsZQ%3D%3D?line=36'>37</a>\u001b[0m \u001b[39m# Callback - use lazy constraints to eliminate sub-tours\u001b[39;00m\n",
      "\u001b[1;31mKeyError\u001b[0m: (1, 0)"
     ]
    }
   ],
   "source": [
    "time = 0\n",
    "# ---- Model ----\n",
    "import gurobipy as gp\n",
    "from gurobipy import GRB\n",
    "\n",
    "m = gp.Model('TSP')\n",
    "\n",
    "# ---- Variables ----\n",
    "\n",
    "# Decision Variable x(i,j) (Distance travelled between node i and node j)\n",
    "\n",
    "x = m.addVars (dist.keys(), obj = dist,  vtype = GRB.BINARY, name = 'x')\n",
    "\n",
    "# Decision Variable t(i) (Time at node i)\n",
    "t = m.addVars (dist.keys(),  vtype = GRB.CONTINUOUS, name = 't')\n",
    "   \n",
    "# ---- Constraints ----\n",
    "\n",
    "# contraint 1: symetry contraint\n",
    "\n",
    "for i,j in x.keys():\n",
    "    x[j, i] = x[i, j]\n",
    "\n",
    "# conraint 2: two edges per node\n",
    "\n",
    "cons = m.addConstrs(x.sum(i, '*') == 2 for i in LOC_ID)\n",
    "\n",
    "# constraint 3: time window constraint\n",
    "\n",
    "for i in LOC_ID:\n",
    "    \n",
    "        for j in LOC_ID:\n",
    "            m.addConstr(t[i,j] >= READYTIME[i] + SERVICETIME[i] + dist[i,j])\n",
    "            m.addConstr(t[i,j] <= DUETIME[i] + SERVICETIME[i] + dist[i,j])\n",
    "\n",
    "\n",
    "# Callback - use lazy constraints to eliminate sub-tours\n",
    "\n",
    "def subtourelim(model, where):\n",
    "    if where == GRB.Callback.MIPSOL:\n",
    "        # make a list of edges selected in the solution\n",
    "        vals = model.cbGetSolution(m._x)\n",
    "        selected = gp.tuplelist((i, j) for i, j in model._x.keys()\n",
    "                             if vals[i, j] > 0.5)\n",
    "        # find the shortest cycle in the selected edge list\n",
    "        tour = subtour(selected)\n",
    "        if len(tour) < len(LOC_ID):\n",
    "            # add subtour elimination constr. for every pair of cities in subtour\n",
    "            m.cbLazy(gp.quicksum(model._x[i, j] for i, j in combinations(tour, 2))\n",
    "                         <= len(tour)-1)\n",
    "\n",
    "# Given a tuplelist of edges, find the shortest subtour\n",
    "\n",
    "def subtour(edges):\n",
    "    unvisited = LOC_ID[:]\n",
    "    cycle = LOC_ID[:] # Dummy - guaranteed to be replaced\n",
    "    while unvisited:  # true if list is non-empty\n",
    "        thiscycle = []\n",
    "        neighbors = unvisited\n",
    "        while neighbors:\n",
    "            current = neighbors[0]\n",
    "            thiscycle.append(current)\n",
    "            unvisited.remove(current)\n",
    "            neighbors = [j for i, j in edges.select(current, '*')\n",
    "                         if j in unvisited]\n",
    "        if len(thiscycle) <= len(cycle):\n",
    "            cycle = thiscycle # New shortest subtour\n",
    "    return cycle\n",
    "\n",
    "# ---- Solve ----\n",
    "\n",
    "m._x = x\n",
    "m.Params.lazyConstraints = 1\n",
    "m.optimize (subtourelim)\n"
   ]
  },
  {
   "cell_type": "code",
   "execution_count": null,
   "metadata": {},
   "outputs": [
    {
     "data": {
      "image/png": "[encoded data removed]",
      "text/plain": [
       "<Figure size 864x360 with 1 Axes>"
      ]
     },
     "metadata": {
      "needs_background": "light"
     },
     "output_type": "display_data"
    }
   ],
   "source": [
    "plt.figure(figsize = (12, 5))\n",
    "for i in range(len(LOC_ID)):\n",
    "    plt.scatter(X_COORD[i], Y_COORD[i], color = 'blue') \n",
    "    plt.annotate(str(LOC_ID[i]), xy = (X_COORD[i], Y_COORD[i]), xytext = (X_COORD[i] + 0.05, Y_COORD[i] + 0.3), color = 'red')"
   ]
  },
  {
   "cell_type": "code",
   "execution_count": null,
   "metadata": {},
   "outputs": [
    {
     "name": "stdout",
     "output_type": "stream",
     "text": [
      "[0, 4, 5, 3, 1, 2, 6]\n"
     ]
    }
   ],
   "source": [
    "vals = m.getAttr('x', x)\n",
    "selected = gp.tuplelist((i, j) for i, j in x.keys() if vals[i, j] > 0.5)\n",
    "\n",
    "tour = subtour(selected)\n",
    "print(tour)\n",
    "\n"
   ]
  },
  {
   "cell_type": "code",
   "execution_count": null,
   "metadata": {},
   "outputs": [],
   "source": [
    "\n"
   ]
  }
 ],
 "metadata": {
  "kernelspec": {
   "display_name": "Python 3.9.12 ('base')",
   "language": "python",
   "name": "python3"
  },
  "language_info": {
   "codemirror_mode": {
    "name": "ipython",
    "version": 3
   },
   "file_extension": ".py",
   "mimetype": "text/x-python",
   "name": "python",
   "nbconvert_exporter": "python",
   "pygments_lexer": "ipython3",
   "version": "3.9.12"
  },
  "vscode": {
   "interpreter": {
    "hash": "379a54f88e8c8665e68dc4067eed725d6a43ec7999b7a5fa54a13bcba514c554"
   }
  }
 },
 "nbformat": 4,
 "nbformat_minor": 2
}
